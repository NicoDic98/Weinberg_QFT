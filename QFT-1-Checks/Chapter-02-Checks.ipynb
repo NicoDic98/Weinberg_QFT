{
 "cells": [
  {
   "cell_type": "code",
   "execution_count": 10,
   "metadata": {
    "collapsed": true,
    "ExecuteTime": {
     "start_time": "2023-11-08T16:40:42.513955Z",
     "end_time": "2023-11-08T16:40:42.523233Z"
    }
   },
   "outputs": [],
   "source": [
    "from sympy import *"
   ]
  },
  {
   "cell_type": "markdown",
   "source": [
    "# Relativistic Quantum Mechanics"
   ],
   "metadata": {
    "collapsed": false
   }
  },
  {
   "cell_type": "markdown",
   "source": [
    "## One-Particle States"
   ],
   "metadata": {
    "collapsed": false
   }
  },
  {
   "cell_type": "markdown",
   "source": [
    "### Eq. (2.5.29)"
   ],
   "metadata": {
    "collapsed": false
   }
  },
  {
   "cell_type": "code",
   "execution_count": 11,
   "outputs": [],
   "source": [
    "a, b, a1, b1, a2, b2 = symbols(r'\\alpha \\beta \\alpha_1 \\beta_1 \\alpha_2 \\beta_2')\n",
    "c=(a ** 2 + b ** 2) / 2\n",
    "matrix_s = Matrix([[1, 0, -a, a],\n",
    "             [0, 1, -b, b],\n",
    "             [a, b, 1 - c, c],\n",
    "             [a, b, -c, 1 + c]])\n",
    "m1 = matrix_s.subs([(a,a1),(b,b1)])\n",
    "m2 = matrix_s.subs([(a,a2),(b,b2)])"
   ],
   "metadata": {
    "collapsed": false,
    "ExecuteTime": {
     "start_time": "2023-11-08T16:40:42.518491Z",
     "end_time": "2023-11-08T16:40:42.523233Z"
    }
   }
  },
  {
   "cell_type": "code",
   "execution_count": 12,
   "outputs": [
    {
     "data": {
      "text/plain": "Matrix([\n[       1,       0,                         -\\alpha_1,                         \\alpha_1],\n[       0,       1,                          -\\beta_1,                          \\beta_1],\n[\\alpha_1, \\beta_1, -\\alpha_1**2/2 - \\beta_1**2/2 + 1,     \\alpha_1**2/2 + \\beta_1**2/2],\n[\\alpha_1, \\beta_1,     -\\alpha_1**2/2 - \\beta_1**2/2, \\alpha_1**2/2 + \\beta_1**2/2 + 1]])",
      "text/latex": "$\\displaystyle \\left[\\begin{matrix}1 & 0 & - \\alpha_{1} & \\alpha_{1}\\\\0 & 1 & - \\beta_{1} & \\beta_{1}\\\\\\alpha_{1} & \\beta_{1} & - \\frac{\\alpha_{1}^{2}}{2} - \\frac{\\beta_{1}^{2}}{2} + 1 & \\frac{\\alpha_{1}^{2}}{2} + \\frac{\\beta_{1}^{2}}{2}\\\\\\alpha_{1} & \\beta_{1} & - \\frac{\\alpha_{1}^{2}}{2} - \\frac{\\beta_{1}^{2}}{2} & \\frac{\\alpha_{1}^{2}}{2} + \\frac{\\beta_{1}^{2}}{2} + 1\\end{matrix}\\right]$"
     },
     "execution_count": 12,
     "metadata": {},
     "output_type": "execute_result"
    }
   ],
   "source": [
    "m1"
   ],
   "metadata": {
    "collapsed": false,
    "ExecuteTime": {
     "start_time": "2023-11-08T16:40:42.522233Z",
     "end_time": "2023-11-08T16:40:42.529981Z"
    }
   }
  },
  {
   "cell_type": "code",
   "execution_count": 13,
   "outputs": [
    {
     "data": {
      "text/plain": "Matrix([\n[       1,       0,                         -\\alpha_2,                         \\alpha_2],\n[       0,       1,                          -\\beta_2,                          \\beta_2],\n[\\alpha_2, \\beta_2, -\\alpha_2**2/2 - \\beta_2**2/2 + 1,     \\alpha_2**2/2 + \\beta_2**2/2],\n[\\alpha_2, \\beta_2,     -\\alpha_2**2/2 - \\beta_2**2/2, \\alpha_2**2/2 + \\beta_2**2/2 + 1]])",
      "text/latex": "$\\displaystyle \\left[\\begin{matrix}1 & 0 & - \\alpha_{2} & \\alpha_{2}\\\\0 & 1 & - \\beta_{2} & \\beta_{2}\\\\\\alpha_{2} & \\beta_{2} & - \\frac{\\alpha_{2}^{2}}{2} - \\frac{\\beta_{2}^{2}}{2} + 1 & \\frac{\\alpha_{2}^{2}}{2} + \\frac{\\beta_{2}^{2}}{2}\\\\\\alpha_{2} & \\beta_{2} & - \\frac{\\alpha_{2}^{2}}{2} - \\frac{\\beta_{2}^{2}}{2} & \\frac{\\alpha_{2}^{2}}{2} + \\frac{\\beta_{2}^{2}}{2} + 1\\end{matrix}\\right]$"
     },
     "execution_count": 13,
     "metadata": {},
     "output_type": "execute_result"
    }
   ],
   "source": [
    "m2"
   ],
   "metadata": {
    "collapsed": false,
    "ExecuteTime": {
     "start_time": "2023-11-08T16:40:42.529981Z",
     "end_time": "2023-11-08T16:40:42.535986Z"
    }
   }
  },
  {
   "cell_type": "code",
   "execution_count": 14,
   "outputs": [
    {
     "data": {
      "text/plain": "Matrix([\n[                  1,                 0,                                                                                   -\\alpha_1 - \\alpha_2,                                                                                   \\alpha_1 + \\alpha_2],\n[                  0,                 1,                                                                                     -\\beta_1 - \\beta_2,                                                                                     \\beta_1 + \\beta_2],\n[\\alpha_1 + \\alpha_2, \\beta_1 + \\beta_2, -\\alpha_1**2/2 - \\alpha_1*\\alpha_2 - \\alpha_2**2/2 - \\beta_1**2/2 - \\beta_1*\\beta_2 - \\beta_2**2/2 + 1,     \\alpha_1**2/2 + \\alpha_1*\\alpha_2 + \\alpha_2**2/2 + \\beta_1**2/2 + \\beta_1*\\beta_2 + \\beta_2**2/2],\n[\\alpha_1 + \\alpha_2, \\beta_1 + \\beta_2,     -\\alpha_1**2/2 - \\alpha_1*\\alpha_2 - \\alpha_2**2/2 - \\beta_1**2/2 - \\beta_1*\\beta_2 - \\beta_2**2/2, \\alpha_1**2/2 + \\alpha_1*\\alpha_2 + \\alpha_2**2/2 + \\beta_1**2/2 + \\beta_1*\\beta_2 + \\beta_2**2/2 + 1]])",
      "text/latex": "$\\displaystyle \\left[\\begin{matrix}1 & 0 & - \\alpha_{1} - \\alpha_{2} & \\alpha_{1} + \\alpha_{2}\\\\0 & 1 & - \\beta_{1} - \\beta_{2} & \\beta_{1} + \\beta_{2}\\\\\\alpha_{1} + \\alpha_{2} & \\beta_{1} + \\beta_{2} & - \\frac{\\alpha_{1}^{2}}{2} - \\alpha_{1} \\alpha_{2} - \\frac{\\alpha_{2}^{2}}{2} - \\frac{\\beta_{1}^{2}}{2} - \\beta_{1} \\beta_{2} - \\frac{\\beta_{2}^{2}}{2} + 1 & \\frac{\\alpha_{1}^{2}}{2} + \\alpha_{1} \\alpha_{2} + \\frac{\\alpha_{2}^{2}}{2} + \\frac{\\beta_{1}^{2}}{2} + \\beta_{1} \\beta_{2} + \\frac{\\beta_{2}^{2}}{2}\\\\\\alpha_{1} + \\alpha_{2} & \\beta_{1} + \\beta_{2} & - \\frac{\\alpha_{1}^{2}}{2} - \\alpha_{1} \\alpha_{2} - \\frac{\\alpha_{2}^{2}}{2} - \\frac{\\beta_{1}^{2}}{2} - \\beta_{1} \\beta_{2} - \\frac{\\beta_{2}^{2}}{2} & \\frac{\\alpha_{1}^{2}}{2} + \\alpha_{1} \\alpha_{2} + \\frac{\\alpha_{2}^{2}}{2} + \\frac{\\beta_{1}^{2}}{2} + \\beta_{1} \\beta_{2} + \\frac{\\beta_{2}^{2}}{2} + 1\\end{matrix}\\right]$"
     },
     "execution_count": 14,
     "metadata": {},
     "output_type": "execute_result"
    }
   ],
   "source": [
    "m3=factor(simplify(m1*m2))\n",
    "m3"
   ],
   "metadata": {
    "collapsed": false,
    "ExecuteTime": {
     "start_time": "2023-11-08T16:40:42.536987Z",
     "end_time": "2023-11-08T16:40:42.674607Z"
    }
   }
  },
  {
   "cell_type": "code",
   "execution_count": 15,
   "outputs": [
    {
     "data": {
      "text/plain": "Matrix([\n[                  1,                 0,                                       -\\alpha_1 - \\alpha_2,                                       \\alpha_1 + \\alpha_2],\n[                  0,                 1,                                         -\\beta_1 - \\beta_2,                                         \\beta_1 + \\beta_2],\n[\\alpha_1 + \\alpha_2, \\beta_1 + \\beta_2, -(\\alpha_1 + \\alpha_2)**2/2 - (\\beta_1 + \\beta_2)**2/2 + 1,     (\\alpha_1 + \\alpha_2)**2/2 + (\\beta_1 + \\beta_2)**2/2],\n[\\alpha_1 + \\alpha_2, \\beta_1 + \\beta_2,     -(\\alpha_1 + \\alpha_2)**2/2 - (\\beta_1 + \\beta_2)**2/2, (\\alpha_1 + \\alpha_2)**2/2 + (\\beta_1 + \\beta_2)**2/2 + 1]])",
      "text/latex": "$\\displaystyle \\left[\\begin{matrix}1 & 0 & - \\alpha_{1} - \\alpha_{2} & \\alpha_{1} + \\alpha_{2}\\\\0 & 1 & - \\beta_{1} - \\beta_{2} & \\beta_{1} + \\beta_{2}\\\\\\alpha_{1} + \\alpha_{2} & \\beta_{1} + \\beta_{2} & - \\frac{\\left(\\alpha_{1} + \\alpha_{2}\\right)^{2}}{2} - \\frac{\\left(\\beta_{1} + \\beta_{2}\\right)^{2}}{2} + 1 & \\frac{\\left(\\alpha_{1} + \\alpha_{2}\\right)^{2}}{2} + \\frac{\\left(\\beta_{1} + \\beta_{2}\\right)^{2}}{2}\\\\\\alpha_{1} + \\alpha_{2} & \\beta_{1} + \\beta_{2} & - \\frac{\\left(\\alpha_{1} + \\alpha_{2}\\right)^{2}}{2} - \\frac{\\left(\\beta_{1} + \\beta_{2}\\right)^{2}}{2} & \\frac{\\left(\\alpha_{1} + \\alpha_{2}\\right)^{2}}{2} + \\frac{\\left(\\beta_{1} + \\beta_{2}\\right)^{2}}{2} + 1\\end{matrix}\\right]$"
     },
     "execution_count": 15,
     "metadata": {},
     "output_type": "execute_result"
    }
   ],
   "source": [
    "m4=matrix_s.subs([(a,a1+a2),(b,b1+b2)])\n",
    "m4"
   ],
   "metadata": {
    "collapsed": false,
    "ExecuteTime": {
     "start_time": "2023-11-08T16:40:42.676608Z",
     "end_time": "2023-11-08T16:40:42.684038Z"
    }
   }
  },
  {
   "cell_type": "code",
   "execution_count": 17,
   "outputs": [
    {
     "data": {
      "text/plain": "Matrix([\n[0, 0, 0, 0],\n[0, 0, 0, 0],\n[0, 0, 0, 0],\n[0, 0, 0, 0]])",
      "text/latex": "$\\displaystyle \\left[\\begin{matrix}0 & 0 & 0 & 0\\\\0 & 0 & 0 & 0\\\\0 & 0 & 0 & 0\\\\0 & 0 & 0 & 0\\end{matrix}\\right]$"
     },
     "execution_count": 17,
     "metadata": {},
     "output_type": "execute_result"
    }
   ],
   "source": [
    "simplify(m3-m4)"
   ],
   "metadata": {
    "collapsed": false,
    "ExecuteTime": {
     "start_time": "2023-11-08T16:41:07.620036Z",
     "end_time": "2023-11-08T16:41:07.656572Z"
    }
   }
  },
  {
   "cell_type": "markdown",
   "source": [
    "### Eq. (2.5.31)"
   ],
   "metadata": {
    "collapsed": false
   }
  },
  {
   "cell_type": "code",
   "execution_count": 18,
   "outputs": [],
   "source": [
    "t = symbols(r'\\theta_')\n",
    "matrix_r = Matrix([[cos(t), sin(t), 0, 0],\n",
    "             [-sin(t), cos(t), 0, 0],\n",
    "             [0, 0, 1, 0],\n",
    "             [0, 0, 0, 1]])"
   ],
   "metadata": {
    "collapsed": false,
    "ExecuteTime": {
     "start_time": "2023-11-08T16:44:15.705899Z",
     "end_time": "2023-11-08T16:44:15.711406Z"
    }
   }
  },
  {
   "cell_type": "code",
   "execution_count": 19,
   "outputs": [
    {
     "data": {
      "text/plain": "Matrix([\n[ cos(\\theta_), sin(\\theta_), 0, 0],\n[-sin(\\theta_), cos(\\theta_), 0, 0],\n[            0,            0, 1, 0],\n[            0,            0, 0, 1]])",
      "text/latex": "$\\displaystyle \\left[\\begin{matrix}\\cos{\\left(\\theta_{} \\right)} & \\sin{\\left(\\theta_{} \\right)} & 0 & 0\\\\- \\sin{\\left(\\theta_{} \\right)} & \\cos{\\left(\\theta_{} \\right)} & 0 & 0\\\\0 & 0 & 1 & 0\\\\0 & 0 & 0 & 1\\end{matrix}\\right]$"
     },
     "execution_count": 19,
     "metadata": {},
     "output_type": "execute_result"
    }
   ],
   "source": [
    "matrix_r"
   ],
   "metadata": {
    "collapsed": false,
    "ExecuteTime": {
     "start_time": "2023-11-08T16:44:20.823214Z",
     "end_time": "2023-11-08T16:44:20.828518Z"
    }
   }
  },
  {
   "cell_type": "code",
   "execution_count": 23,
   "outputs": [],
   "source": [
    "m5=factor(simplify(matrix_r*m1*matrix_r.T))"
   ],
   "metadata": {
    "collapsed": false,
    "ExecuteTime": {
     "start_time": "2023-11-08T16:48:17.451307Z",
     "end_time": "2023-11-08T16:48:17.655042Z"
    }
   }
  },
  {
   "cell_type": "code",
   "execution_count": 24,
   "outputs": [
    {
     "data": {
      "text/plain": "Matrix([\n[                                           1,                                             0, -\\alpha_1*cos(\\theta_) - \\beta_1*sin(\\theta_),  \\alpha_1*cos(\\theta_) + \\beta_1*sin(\\theta_)],\n[                                           0,                                             1,  \\alpha_1*sin(\\theta_) - \\beta_1*cos(\\theta_), -\\alpha_1*sin(\\theta_) + \\beta_1*cos(\\theta_)],\n[\\alpha_1*cos(\\theta_) + \\beta_1*sin(\\theta_), -\\alpha_1*sin(\\theta_) + \\beta_1*cos(\\theta_),             -\\alpha_1**2/2 - \\beta_1**2/2 + 1,                  \\alpha_1**2/2 + \\beta_1**2/2],\n[\\alpha_1*cos(\\theta_) + \\beta_1*sin(\\theta_), -\\alpha_1*sin(\\theta_) + \\beta_1*cos(\\theta_),                 -\\alpha_1**2/2 - \\beta_1**2/2,              \\alpha_1**2/2 + \\beta_1**2/2 + 1]])",
      "text/latex": "$\\displaystyle \\left[\\begin{matrix}1 & 0 & - \\alpha_{1} \\cos{\\left(\\theta_{} \\right)} - \\beta_{1} \\sin{\\left(\\theta_{} \\right)} & \\alpha_{1} \\cos{\\left(\\theta_{} \\right)} + \\beta_{1} \\sin{\\left(\\theta_{} \\right)}\\\\0 & 1 & \\alpha_{1} \\sin{\\left(\\theta_{} \\right)} - \\beta_{1} \\cos{\\left(\\theta_{} \\right)} & - \\alpha_{1} \\sin{\\left(\\theta_{} \\right)} + \\beta_{1} \\cos{\\left(\\theta_{} \\right)}\\\\\\alpha_{1} \\cos{\\left(\\theta_{} \\right)} + \\beta_{1} \\sin{\\left(\\theta_{} \\right)} & - \\alpha_{1} \\sin{\\left(\\theta_{} \\right)} + \\beta_{1} \\cos{\\left(\\theta_{} \\right)} & - \\frac{\\alpha_{1}^{2}}{2} - \\frac{\\beta_{1}^{2}}{2} + 1 & \\frac{\\alpha_{1}^{2}}{2} + \\frac{\\beta_{1}^{2}}{2}\\\\\\alpha_{1} \\cos{\\left(\\theta_{} \\right)} + \\beta_{1} \\sin{\\left(\\theta_{} \\right)} & - \\alpha_{1} \\sin{\\left(\\theta_{} \\right)} + \\beta_{1} \\cos{\\left(\\theta_{} \\right)} & - \\frac{\\alpha_{1}^{2}}{2} - \\frac{\\beta_{1}^{2}}{2} & \\frac{\\alpha_{1}^{2}}{2} + \\frac{\\beta_{1}^{2}}{2} + 1\\end{matrix}\\right]$"
     },
     "execution_count": 24,
     "metadata": {},
     "output_type": "execute_result"
    }
   ],
   "source": [
    "m5"
   ],
   "metadata": {
    "collapsed": false,
    "ExecuteTime": {
     "start_time": "2023-11-08T16:48:18.796699Z",
     "end_time": "2023-11-08T16:48:18.805013Z"
    }
   }
  },
  {
   "cell_type": "code",
   "execution_count": 25,
   "outputs": [],
   "source": [
    "m6=matrix_s.subs([(a,a1*cos(t)+b1*sin(t)),(b,-a1*sin(t)+b1*cos(t))])"
   ],
   "metadata": {
    "collapsed": false,
    "ExecuteTime": {
     "start_time": "2023-11-08T16:48:23.514329Z",
     "end_time": "2023-11-08T16:48:23.520074Z"
    }
   }
  },
  {
   "cell_type": "code",
   "execution_count": 26,
   "outputs": [
    {
     "data": {
      "text/plain": "Matrix([\n[                                           1,                                             0,                                                                   -\\alpha_1*cos(\\theta_) - \\beta_1*sin(\\theta_),                                                                   \\alpha_1*cos(\\theta_) + \\beta_1*sin(\\theta_)],\n[                                           0,                                             1,                                                                    \\alpha_1*sin(\\theta_) - \\beta_1*cos(\\theta_),                                                                  -\\alpha_1*sin(\\theta_) + \\beta_1*cos(\\theta_)],\n[\\alpha_1*cos(\\theta_) + \\beta_1*sin(\\theta_), -\\alpha_1*sin(\\theta_) + \\beta_1*cos(\\theta_), -(-\\alpha_1*sin(\\theta_) + \\beta_1*cos(\\theta_))**2/2 - (\\alpha_1*cos(\\theta_) + \\beta_1*sin(\\theta_))**2/2 + 1,     (-\\alpha_1*sin(\\theta_) + \\beta_1*cos(\\theta_))**2/2 + (\\alpha_1*cos(\\theta_) + \\beta_1*sin(\\theta_))**2/2],\n[\\alpha_1*cos(\\theta_) + \\beta_1*sin(\\theta_), -\\alpha_1*sin(\\theta_) + \\beta_1*cos(\\theta_),     -(-\\alpha_1*sin(\\theta_) + \\beta_1*cos(\\theta_))**2/2 - (\\alpha_1*cos(\\theta_) + \\beta_1*sin(\\theta_))**2/2, (-\\alpha_1*sin(\\theta_) + \\beta_1*cos(\\theta_))**2/2 + (\\alpha_1*cos(\\theta_) + \\beta_1*sin(\\theta_))**2/2 + 1]])",
      "text/latex": "$\\displaystyle \\left[\\begin{matrix}1 & 0 & - \\alpha_{1} \\cos{\\left(\\theta_{} \\right)} - \\beta_{1} \\sin{\\left(\\theta_{} \\right)} & \\alpha_{1} \\cos{\\left(\\theta_{} \\right)} + \\beta_{1} \\sin{\\left(\\theta_{} \\right)}\\\\0 & 1 & \\alpha_{1} \\sin{\\left(\\theta_{} \\right)} - \\beta_{1} \\cos{\\left(\\theta_{} \\right)} & - \\alpha_{1} \\sin{\\left(\\theta_{} \\right)} + \\beta_{1} \\cos{\\left(\\theta_{} \\right)}\\\\\\alpha_{1} \\cos{\\left(\\theta_{} \\right)} + \\beta_{1} \\sin{\\left(\\theta_{} \\right)} & - \\alpha_{1} \\sin{\\left(\\theta_{} \\right)} + \\beta_{1} \\cos{\\left(\\theta_{} \\right)} & - \\frac{\\left(- \\alpha_{1} \\sin{\\left(\\theta_{} \\right)} + \\beta_{1} \\cos{\\left(\\theta_{} \\right)}\\right)^{2}}{2} - \\frac{\\left(\\alpha_{1} \\cos{\\left(\\theta_{} \\right)} + \\beta_{1} \\sin{\\left(\\theta_{} \\right)}\\right)^{2}}{2} + 1 & \\frac{\\left(- \\alpha_{1} \\sin{\\left(\\theta_{} \\right)} + \\beta_{1} \\cos{\\left(\\theta_{} \\right)}\\right)^{2}}{2} + \\frac{\\left(\\alpha_{1} \\cos{\\left(\\theta_{} \\right)} + \\beta_{1} \\sin{\\left(\\theta_{} \\right)}\\right)^{2}}{2}\\\\\\alpha_{1} \\cos{\\left(\\theta_{} \\right)} + \\beta_{1} \\sin{\\left(\\theta_{} \\right)} & - \\alpha_{1} \\sin{\\left(\\theta_{} \\right)} + \\beta_{1} \\cos{\\left(\\theta_{} \\right)} & - \\frac{\\left(- \\alpha_{1} \\sin{\\left(\\theta_{} \\right)} + \\beta_{1} \\cos{\\left(\\theta_{} \\right)}\\right)^{2}}{2} - \\frac{\\left(\\alpha_{1} \\cos{\\left(\\theta_{} \\right)} + \\beta_{1} \\sin{\\left(\\theta_{} \\right)}\\right)^{2}}{2} & \\frac{\\left(- \\alpha_{1} \\sin{\\left(\\theta_{} \\right)} + \\beta_{1} \\cos{\\left(\\theta_{} \\right)}\\right)^{2}}{2} + \\frac{\\left(\\alpha_{1} \\cos{\\left(\\theta_{} \\right)} + \\beta_{1} \\sin{\\left(\\theta_{} \\right)}\\right)^{2}}{2} + 1\\end{matrix}\\right]$"
     },
     "execution_count": 26,
     "metadata": {},
     "output_type": "execute_result"
    }
   ],
   "source": [
    "m6"
   ],
   "metadata": {
    "collapsed": false,
    "ExecuteTime": {
     "start_time": "2023-11-08T16:48:27.632501Z",
     "end_time": "2023-11-08T16:48:27.644796Z"
    }
   }
  },
  {
   "cell_type": "code",
   "execution_count": 27,
   "outputs": [
    {
     "data": {
      "text/plain": "Matrix([\n[0, 0, 0, 0],\n[0, 0, 0, 0],\n[0, 0, 0, 0],\n[0, 0, 0, 0]])",
      "text/latex": "$\\displaystyle \\left[\\begin{matrix}0 & 0 & 0 & 0\\\\0 & 0 & 0 & 0\\\\0 & 0 & 0 & 0\\\\0 & 0 & 0 & 0\\end{matrix}\\right]$"
     },
     "execution_count": 27,
     "metadata": {},
     "output_type": "execute_result"
    }
   ],
   "source": [
    "simplify(m5-m6)"
   ],
   "metadata": {
    "collapsed": false,
    "ExecuteTime": {
     "start_time": "2023-11-08T16:48:41.851610Z",
     "end_time": "2023-11-08T16:48:42.140943Z"
    }
   }
  },
  {
   "cell_type": "code",
   "execution_count": null,
   "outputs": [],
   "source": [],
   "metadata": {
    "collapsed": false
   }
  }
 ],
 "metadata": {
  "kernelspec": {
   "display_name": "Python 3",
   "language": "python",
   "name": "python3"
  },
  "language_info": {
   "codemirror_mode": {
    "name": "ipython",
    "version": 2
   },
   "file_extension": ".py",
   "mimetype": "text/x-python",
   "name": "python",
   "nbconvert_exporter": "python",
   "pygments_lexer": "ipython2",
   "version": "2.7.6"
  }
 },
 "nbformat": 4,
 "nbformat_minor": 0
}
