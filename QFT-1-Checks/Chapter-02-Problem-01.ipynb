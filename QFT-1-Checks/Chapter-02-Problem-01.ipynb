{
 "cells": [
  {
   "cell_type": "code",
   "execution_count": 1,
   "id": "initial_id",
   "metadata": {
    "collapsed": true,
    "ExecuteTime": {
     "end_time": "2023-11-26T12:25:03.570701700Z",
     "start_time": "2023-11-26T12:25:02.141344200Z"
    }
   },
   "outputs": [],
   "source": [
    "from sympy import *"
   ]
  },
  {
   "cell_type": "code",
   "execution_count": 2,
   "outputs": [
    {
     "data": {
      "text/plain": "Matrix([\n[q^1**2*(sqrt(1 + (q^1**2 + q^2**2 + q^3**2)/m**2) - 1)/(q^1**2 + q^2**2 + q^3**2) + 1,    q^1*q^2*(sqrt(1 + (q^1**2 + q^2**2 + q^3**2)/m**2) - 1)/(q^1**2 + q^2**2 + q^3**2),    q^1*q^3*(sqrt(1 + (q^1**2 + q^2**2 + q^3**2)/m**2) - 1)/(q^1**2 + q^2**2 + q^3**2),                                     q^1/m],\n[   q^1*q^2*(sqrt(1 + (q^1**2 + q^2**2 + q^3**2)/m**2) - 1)/(q^1**2 + q^2**2 + q^3**2), q^2**2*(sqrt(1 + (q^1**2 + q^2**2 + q^3**2)/m**2) - 1)/(q^1**2 + q^2**2 + q^3**2) + 1,    q^2*q^3*(sqrt(1 + (q^1**2 + q^2**2 + q^3**2)/m**2) - 1)/(q^1**2 + q^2**2 + q^3**2),                                     q^2/m],\n[   q^1*q^3*(sqrt(1 + (q^1**2 + q^2**2 + q^3**2)/m**2) - 1)/(q^1**2 + q^2**2 + q^3**2),    q^2*q^3*(sqrt(1 + (q^1**2 + q^2**2 + q^3**2)/m**2) - 1)/(q^1**2 + q^2**2 + q^3**2), q^3**2*(sqrt(1 + (q^1**2 + q^2**2 + q^3**2)/m**2) - 1)/(q^1**2 + q^2**2 + q^3**2) + 1,                                     q^3/m],\n[                                                                                q^1/m,                                                                                 q^2/m,                                                                                 q^3/m, sqrt(1 + (q^1**2 + q^2**2 + q^3**2)/m**2)]])",
      "text/latex": "$\\displaystyle \\left[\\begin{matrix}\\frac{\\left(q^{1}\\right)^{2} \\left(\\sqrt{1 + \\frac{\\left(q^{1}\\right)^{2} + \\left(q^{2}\\right)^{2} + \\left(q^{3}\\right)^{2}}{m^{2}}} - 1\\right)}{\\left(q^{1}\\right)^{2} + \\left(q^{2}\\right)^{2} + \\left(q^{3}\\right)^{2}} + 1 & \\frac{q^{1} q^{2} \\left(\\sqrt{1 + \\frac{\\left(q^{1}\\right)^{2} + \\left(q^{2}\\right)^{2} + \\left(q^{3}\\right)^{2}}{m^{2}}} - 1\\right)}{\\left(q^{1}\\right)^{2} + \\left(q^{2}\\right)^{2} + \\left(q^{3}\\right)^{2}} & \\frac{q^{1} q^{3} \\left(\\sqrt{1 + \\frac{\\left(q^{1}\\right)^{2} + \\left(q^{2}\\right)^{2} + \\left(q^{3}\\right)^{2}}{m^{2}}} - 1\\right)}{\\left(q^{1}\\right)^{2} + \\left(q^{2}\\right)^{2} + \\left(q^{3}\\right)^{2}} & \\frac{q^{1}}{m}\\\\\\frac{q^{1} q^{2} \\left(\\sqrt{1 + \\frac{\\left(q^{1}\\right)^{2} + \\left(q^{2}\\right)^{2} + \\left(q^{3}\\right)^{2}}{m^{2}}} - 1\\right)}{\\left(q^{1}\\right)^{2} + \\left(q^{2}\\right)^{2} + \\left(q^{3}\\right)^{2}} & \\frac{\\left(q^{2}\\right)^{2} \\left(\\sqrt{1 + \\frac{\\left(q^{1}\\right)^{2} + \\left(q^{2}\\right)^{2} + \\left(q^{3}\\right)^{2}}{m^{2}}} - 1\\right)}{\\left(q^{1}\\right)^{2} + \\left(q^{2}\\right)^{2} + \\left(q^{3}\\right)^{2}} + 1 & \\frac{q^{2} q^{3} \\left(\\sqrt{1 + \\frac{\\left(q^{1}\\right)^{2} + \\left(q^{2}\\right)^{2} + \\left(q^{3}\\right)^{2}}{m^{2}}} - 1\\right)}{\\left(q^{1}\\right)^{2} + \\left(q^{2}\\right)^{2} + \\left(q^{3}\\right)^{2}} & \\frac{q^{2}}{m}\\\\\\frac{q^{1} q^{3} \\left(\\sqrt{1 + \\frac{\\left(q^{1}\\right)^{2} + \\left(q^{2}\\right)^{2} + \\left(q^{3}\\right)^{2}}{m^{2}}} - 1\\right)}{\\left(q^{1}\\right)^{2} + \\left(q^{2}\\right)^{2} + \\left(q^{3}\\right)^{2}} & \\frac{q^{2} q^{3} \\left(\\sqrt{1 + \\frac{\\left(q^{1}\\right)^{2} + \\left(q^{2}\\right)^{2} + \\left(q^{3}\\right)^{2}}{m^{2}}} - 1\\right)}{\\left(q^{1}\\right)^{2} + \\left(q^{2}\\right)^{2} + \\left(q^{3}\\right)^{2}} & \\frac{\\left(q^{3}\\right)^{2} \\left(\\sqrt{1 + \\frac{\\left(q^{1}\\right)^{2} + \\left(q^{2}\\right)^{2} + \\left(q^{3}\\right)^{2}}{m^{2}}} - 1\\right)}{\\left(q^{1}\\right)^{2} + \\left(q^{2}\\right)^{2} + \\left(q^{3}\\right)^{2}} + 1 & \\frac{q^{3}}{m}\\\\\\frac{q^{1}}{m} & \\frac{q^{2}}{m} & \\frac{q^{3}}{m} & \\sqrt{1 + \\frac{\\left(q^{1}\\right)^{2} + \\left(q^{2}\\right)^{2} + \\left(q^{3}\\right)^{2}}{m^{2}}}\\end{matrix}\\right]$"
     },
     "execution_count": 2,
     "metadata": {},
     "output_type": "execute_result"
    }
   ],
   "source": [
    "k, w  = symbols(r'k w', real=True)\n",
    "m, a = symbols(r'm a', positive=True)\n",
    "p1, p2, p3= symbols(r'p^1 p^2 p^3', real=True)\n",
    "q1, q2, q3= symbols(r'q^1 q^2 q^3', real=True)\n",
    "q_s=q1**2+q2**2+q3**2\n",
    "q0 = sqrt(q_s + m**2)\n",
    "\n",
    "q_v = Matrix([q1, q2, q3, q0])\n",
    "q_l = sqrt(q_s)\n",
    "q1h=q1/q_l\n",
    "q2h=q2/q_l\n",
    "q3h=q3/q_l\n",
    "g = sqrt(1+q_s/(m**2))\n",
    "matrix_l = Matrix([[1+(g-1)*q1h*q1h, (g-1)*q1h*q2h, (g-1)*q1h*q3h, q1h*sqrt(g**2-1)],\n",
    "             [(g-1)*q2h*q1h, 1+(g-1)*q2h*q2h, (g-1)*q2h*q3h, q2h*sqrt(g**2-1)],\n",
    "             [(g-1)*q3h*q1h, (g-1)*q3h*q2h, 1 +(g-1)*q3h*q3h, q3h*sqrt(g**2-1)],\n",
    "             [q1h*sqrt(g**2-1), q2h*sqrt(g**2-1), q3h*sqrt(g**2-1), g]])\n",
    "matrix_l"
   ],
   "metadata": {
    "collapsed": false,
    "ExecuteTime": {
     "end_time": "2023-11-26T12:25:03.717314Z",
     "start_time": "2023-11-26T12:25:03.577701700Z"
    }
   },
   "id": "63f6652a4354641c"
  },
  {
   "cell_type": "code",
   "execution_count": 3,
   "outputs": [
    {
     "data": {
      "text/plain": "Matrix([\n[q^1**2*(sqrt(1 + (q^1**2 + q^2**2 + q^3**2)/m**2) - 1)/(q^1**2 + q^2**2 + q^3**2) + 1,    q^1*q^2*(sqrt(1 + (q^1**2 + q^2**2 + q^3**2)/m**2) - 1)/(q^1**2 + q^2**2 + q^3**2),    q^1*q^3*(sqrt(1 + (q^1**2 + q^2**2 + q^3**2)/m**2) - 1)/(q^1**2 + q^2**2 + q^3**2),                                    -q^1/m],\n[   q^1*q^2*(sqrt(1 + (q^1**2 + q^2**2 + q^3**2)/m**2) - 1)/(q^1**2 + q^2**2 + q^3**2), q^2**2*(sqrt(1 + (q^1**2 + q^2**2 + q^3**2)/m**2) - 1)/(q^1**2 + q^2**2 + q^3**2) + 1,    q^2*q^3*(sqrt(1 + (q^1**2 + q^2**2 + q^3**2)/m**2) - 1)/(q^1**2 + q^2**2 + q^3**2),                                    -q^2/m],\n[   q^1*q^3*(sqrt(1 + (q^1**2 + q^2**2 + q^3**2)/m**2) - 1)/(q^1**2 + q^2**2 + q^3**2),    q^2*q^3*(sqrt(1 + (q^1**2 + q^2**2 + q^3**2)/m**2) - 1)/(q^1**2 + q^2**2 + q^3**2), q^3**2*(sqrt(1 + (q^1**2 + q^2**2 + q^3**2)/m**2) - 1)/(q^1**2 + q^2**2 + q^3**2) + 1,                                    -q^3/m],\n[                                                                               -q^1/m,                                                                                -q^2/m,                                                                                -q^3/m, sqrt(1 + (q^1**2 + q^2**2 + q^3**2)/m**2)]])",
      "text/latex": "$\\displaystyle \\left[\\begin{matrix}\\frac{\\left(q^{1}\\right)^{2} \\left(\\sqrt{1 + \\frac{\\left(q^{1}\\right)^{2} + \\left(q^{2}\\right)^{2} + \\left(q^{3}\\right)^{2}}{m^{2}}} - 1\\right)}{\\left(q^{1}\\right)^{2} + \\left(q^{2}\\right)^{2} + \\left(q^{3}\\right)^{2}} + 1 & \\frac{q^{1} q^{2} \\left(\\sqrt{1 + \\frac{\\left(q^{1}\\right)^{2} + \\left(q^{2}\\right)^{2} + \\left(q^{3}\\right)^{2}}{m^{2}}} - 1\\right)}{\\left(q^{1}\\right)^{2} + \\left(q^{2}\\right)^{2} + \\left(q^{3}\\right)^{2}} & \\frac{q^{1} q^{3} \\left(\\sqrt{1 + \\frac{\\left(q^{1}\\right)^{2} + \\left(q^{2}\\right)^{2} + \\left(q^{3}\\right)^{2}}{m^{2}}} - 1\\right)}{\\left(q^{1}\\right)^{2} + \\left(q^{2}\\right)^{2} + \\left(q^{3}\\right)^{2}} & - \\frac{q^{1}}{m}\\\\\\frac{q^{1} q^{2} \\left(\\sqrt{1 + \\frac{\\left(q^{1}\\right)^{2} + \\left(q^{2}\\right)^{2} + \\left(q^{3}\\right)^{2}}{m^{2}}} - 1\\right)}{\\left(q^{1}\\right)^{2} + \\left(q^{2}\\right)^{2} + \\left(q^{3}\\right)^{2}} & \\frac{\\left(q^{2}\\right)^{2} \\left(\\sqrt{1 + \\frac{\\left(q^{1}\\right)^{2} + \\left(q^{2}\\right)^{2} + \\left(q^{3}\\right)^{2}}{m^{2}}} - 1\\right)}{\\left(q^{1}\\right)^{2} + \\left(q^{2}\\right)^{2} + \\left(q^{3}\\right)^{2}} + 1 & \\frac{q^{2} q^{3} \\left(\\sqrt{1 + \\frac{\\left(q^{1}\\right)^{2} + \\left(q^{2}\\right)^{2} + \\left(q^{3}\\right)^{2}}{m^{2}}} - 1\\right)}{\\left(q^{1}\\right)^{2} + \\left(q^{2}\\right)^{2} + \\left(q^{3}\\right)^{2}} & - \\frac{q^{2}}{m}\\\\\\frac{q^{1} q^{3} \\left(\\sqrt{1 + \\frac{\\left(q^{1}\\right)^{2} + \\left(q^{2}\\right)^{2} + \\left(q^{3}\\right)^{2}}{m^{2}}} - 1\\right)}{\\left(q^{1}\\right)^{2} + \\left(q^{2}\\right)^{2} + \\left(q^{3}\\right)^{2}} & \\frac{q^{2} q^{3} \\left(\\sqrt{1 + \\frac{\\left(q^{1}\\right)^{2} + \\left(q^{2}\\right)^{2} + \\left(q^{3}\\right)^{2}}{m^{2}}} - 1\\right)}{\\left(q^{1}\\right)^{2} + \\left(q^{2}\\right)^{2} + \\left(q^{3}\\right)^{2}} & \\frac{\\left(q^{3}\\right)^{2} \\left(\\sqrt{1 + \\frac{\\left(q^{1}\\right)^{2} + \\left(q^{2}\\right)^{2} + \\left(q^{3}\\right)^{2}}{m^{2}}} - 1\\right)}{\\left(q^{1}\\right)^{2} + \\left(q^{2}\\right)^{2} + \\left(q^{3}\\right)^{2}} + 1 & - \\frac{q^{3}}{m}\\\\- \\frac{q^{1}}{m} & - \\frac{q^{2}}{m} & - \\frac{q^{3}}{m} & \\sqrt{1 + \\frac{\\left(q^{1}\\right)^{2} + \\left(q^{2}\\right)^{2} + \\left(q^{3}\\right)^{2}}{m^{2}}}\\end{matrix}\\right]$"
     },
     "execution_count": 3,
     "metadata": {},
     "output_type": "execute_result"
    }
   ],
   "source": [
    "temp = Matrix([[1,0,0,0],\n",
    "               [0,1,0,0],\n",
    "               [0,0,1,0],\n",
    "               [0,0,0,-1]])\n",
    "matrix_l_inv = temp * matrix_l * temp\n",
    "matrix_l_inv"
   ],
   "metadata": {
    "collapsed": false,
    "ExecuteTime": {
     "end_time": "2023-11-26T12:25:03.765175800Z",
     "start_time": "2023-11-26T12:25:03.718314500Z"
    }
   },
   "id": "c54421b0acddd9fb"
  },
  {
   "cell_type": "code",
   "execution_count": 4,
   "outputs": [
    {
     "data": {
      "text/plain": "Matrix([\n[1,                   0, 0,                   0],\n[0, sqrt(k**2 + m**2)/m, 0,                 k/m],\n[0,                   0, 1,                   0],\n[0,                 k/m, 0, sqrt(k**2 + m**2)/m]])",
      "text/latex": "$\\displaystyle \\left[\\begin{matrix}1 & 0 & 0 & 0\\\\0 & \\frac{\\sqrt{k^{2} + m^{2}}}{m} & 0 & \\frac{k}{m}\\\\0 & 0 & 1 & 0\\\\0 & \\frac{k}{m} & 0 & \\frac{\\sqrt{k^{2} + m^{2}}}{m}\\end{matrix}\\right]$"
     },
     "execution_count": 4,
     "metadata": {},
     "output_type": "execute_result"
    }
   ],
   "source": [
    "m1 = simplify(matrix_l.subs([(q1,0),(q2,k),(q3,0)]))\n",
    "m1"
   ],
   "metadata": {
    "collapsed": false,
    "ExecuteTime": {
     "end_time": "2023-11-26T12:25:04.045144700Z",
     "start_time": "2023-11-26T12:25:03.764176700Z"
    }
   },
   "id": "23678a653a51a0e7"
  },
  {
   "cell_type": "code",
   "execution_count": 5,
   "outputs": [
    {
     "data": {
      "text/plain": "Matrix([\n[1, 0,                 0,                 0],\n[0, 1,                 0,                 0],\n[0, 0,  1/sqrt(1 - w**2), -w/sqrt(1 - w**2)],\n[0, 0, -w/sqrt(1 - w**2),  1/sqrt(1 - w**2)]])",
      "text/latex": "$\\displaystyle \\left[\\begin{matrix}1 & 0 & 0 & 0\\\\0 & 1 & 0 & 0\\\\0 & 0 & \\frac{1}{\\sqrt{1 - w^{2}}} & - \\frac{w}{\\sqrt{1 - w^{2}}}\\\\0 & 0 & - \\frac{w}{\\sqrt{1 - w^{2}}} & \\frac{1}{\\sqrt{1 - w^{2}}}\\end{matrix}\\right]$"
     },
     "execution_count": 5,
     "metadata": {},
     "output_type": "execute_result"
    }
   ],
   "source": [
    "g_w = 1/sqrt(1-w**2)\n",
    "matrix_lambda = Matrix([[1, 0, 0, 0],\n",
    "                        [0, 1, 0, 0],\n",
    "                        [0, 0, g_w, -w * g_w],\n",
    "                        [0, 0, -w*g_w, g_w]])\n",
    "matrix_lambda"
   ],
   "metadata": {
    "collapsed": false,
    "ExecuteTime": {
     "end_time": "2023-11-26T12:25:04.073130800Z",
     "start_time": "2023-11-26T12:25:04.045144700Z"
    }
   },
   "id": "f02e2d53209d1b75"
  },
  {
   "cell_type": "code",
   "execution_count": 6,
   "outputs": [
    {
     "data": {
      "text/plain": "Matrix([\n[                                  0],\n[                                  k],\n[-w*sqrt(k**2 + m**2)/sqrt(1 - w**2)],\n[   sqrt(k**2 + m**2)/sqrt(1 - w**2)]])",
      "text/latex": "$\\displaystyle \\left[\\begin{matrix}0\\\\k\\\\- \\frac{w \\sqrt{k^{2} + m^{2}}}{\\sqrt{1 - w^{2}}}\\\\\\frac{\\sqrt{k^{2} + m^{2}}}{\\sqrt{1 - w^{2}}}\\end{matrix}\\right]$"
     },
     "execution_count": 6,
     "metadata": {},
     "output_type": "execute_result"
    }
   ],
   "source": [
    "vector_lp = (matrix_lambda*q_v).subs([(q1,0),(q2,k),(q3,0)])\n",
    "vector_lp"
   ],
   "metadata": {
    "collapsed": false,
    "ExecuteTime": {
     "end_time": "2023-11-26T12:25:04.107397800Z",
     "start_time": "2023-11-26T12:25:04.064130100Z"
    }
   },
   "id": "e3644c670309f845"
  },
  {
   "cell_type": "code",
   "execution_count": 7,
   "outputs": [
    {
     "data": {
      "text/plain": "Matrix([\n[1,                                                                                                                                   0,                                                                                                                                      0,                                      0],\n[0, (k**2*m*w**2 - k**2*w**2*sqrt((-k**2 - m**2)/(w**2 - 1)) + k**2*sqrt((-k**2 - m**2)/(w**2 - 1)) + m**3*w**2)/(m*(k**2 + m**2*w**2)),                                      k*w*sqrt(1 - w**2)*sqrt(k**2 + m**2)*(m - sqrt((-k**2 - m**2)/(w**2 - 1)))/(m*(k**2 + m**2*w**2)),                                   -k/m],\n[0,                                   k*w*sqrt(1 - w**2)*sqrt(k**2 + m**2)*(m - sqrt((-k**2 - m**2)/(w**2 - 1)))/(m*(k**2 + m**2*w**2)), (-k**2*m*w**2 + k**2*m + k**2*w**2*sqrt((-k**2 - m**2)/(w**2 - 1)) + m**2*w**2*sqrt((-k**2 - m**2)/(w**2 - 1)))/(m*(k**2 + m**2*w**2)), w*sqrt(k**2 + m**2)/(m*sqrt(1 - w**2))],\n[0,                                                                                                                                -k/m,                                                                                                 w*sqrt(k**2 + m**2)/(m*sqrt(1 - w**2)),      sqrt((-k**2 - m**2)/(w**2 - 1))/m]])",
      "text/latex": "$\\displaystyle \\left[\\begin{matrix}1 & 0 & 0 & 0\\\\0 & \\frac{k^{2} m w^{2} - k^{2} w^{2} \\sqrt{\\frac{- k^{2} - m^{2}}{w^{2} - 1}} + k^{2} \\sqrt{\\frac{- k^{2} - m^{2}}{w^{2} - 1}} + m^{3} w^{2}}{m \\left(k^{2} + m^{2} w^{2}\\right)} & \\frac{k w \\sqrt{1 - w^{2}} \\sqrt{k^{2} + m^{2}} \\left(m - \\sqrt{\\frac{- k^{2} - m^{2}}{w^{2} - 1}}\\right)}{m \\left(k^{2} + m^{2} w^{2}\\right)} & - \\frac{k}{m}\\\\0 & \\frac{k w \\sqrt{1 - w^{2}} \\sqrt{k^{2} + m^{2}} \\left(m - \\sqrt{\\frac{- k^{2} - m^{2}}{w^{2} - 1}}\\right)}{m \\left(k^{2} + m^{2} w^{2}\\right)} & \\frac{- k^{2} m w^{2} + k^{2} m + k^{2} w^{2} \\sqrt{\\frac{- k^{2} - m^{2}}{w^{2} - 1}} + m^{2} w^{2} \\sqrt{\\frac{- k^{2} - m^{2}}{w^{2} - 1}}}{m \\left(k^{2} + m^{2} w^{2}\\right)} & \\frac{w \\sqrt{k^{2} + m^{2}}}{m \\sqrt{1 - w^{2}}}\\\\0 & - \\frac{k}{m} & \\frac{w \\sqrt{k^{2} + m^{2}}}{m \\sqrt{1 - w^{2}}} & \\frac{\\sqrt{\\frac{- k^{2} - m^{2}}{w^{2} - 1}}}{m}\\end{matrix}\\right]$"
     },
     "execution_count": 7,
     "metadata": {},
     "output_type": "execute_result"
    }
   ],
   "source": [
    "m2 = simplify(matrix_l_inv.subs([(q1,vector_lp[0]),(q2,vector_lp[1]),(q3,vector_lp[2])]))\n",
    "m2"
   ],
   "metadata": {
    "collapsed": false,
    "ExecuteTime": {
     "end_time": "2023-11-26T12:25:04.899374900Z",
     "start_time": "2023-11-26T12:25:04.091393Z"
    }
   },
   "id": "b0912741844f1903"
  },
  {
   "cell_type": "code",
   "execution_count": 8,
   "outputs": [
    {
     "data": {
      "text/plain": "Matrix([\n[1,                                                                                                                                                                                                                                                                                     0,                                                                                                                                                                                                                                             0,                                                                                                                         0],\n[0,                                                                                (k**4*sqrt(-1/(w**2 - 1))*sqrt(1 - w**2) - k**4 - k**2*m**2*w**2 + k**2*m**2*sqrt(-1/(w**2 - 1))*sqrt(1 - w**2) + m**3*w**2*sqrt(1 - w**2)*sqrt(k**2 + m**2))/(m**2*sqrt(1 - w**2)*(k**2 + m**2*w**2)),                                                                                                   k*w*(k**2 + m**2*w**2 + sqrt(1 - w**2)*sqrt(k**2 + m**2)*(m - sqrt(-1/(w**2 - 1))*sqrt(k**2 + m**2)))/(m*sqrt(1 - w**2)*(k**2 + m**2*w**2)),                                        k*sqrt(k**2 + m**2)*(sqrt(-1/(w**2 - 1))*sqrt(1 - w**2) - 1)/(m**2*sqrt(1 - w**2))],\n[0, k*w*(k**2*sqrt(-1/(w**2 - 1))*sqrt(1 - w**2)*sqrt(k**2 + m**2) - k**2*sqrt(k**2 + m**2) + m**3*w**2*sqrt(1 - w**2) - m**3*sqrt(1 - w**2) - m**2*w**2*sqrt(k**2 + m**2) + m**2*sqrt(-1/(w**2 - 1))*sqrt(1 - w**2)*sqrt(k**2 + m**2))/(m**2*(k**2*w**2 - k**2 + m**2*w**4 - m**2*w**2)), (-w**2*sqrt(1 - w**2)*sqrt(k**2 + m**2)*(k**2 + m**2*w**2) - (w**2 - 1)*(-k**2*m*w**2 + k**2*m + k**2*w**2*sqrt(-1/(w**2 - 1))*sqrt(k**2 + m**2) + m**2*w**2*sqrt(-1/(w**2 - 1))*sqrt(k**2 + m**2)))/(m*(1 - w**2)**(3/2)*(k**2 + m**2*w**2)),     w*(k**2*sqrt(-1/(w**2 - 1))*sqrt(1 - w**2) - k**2 + m**2*sqrt(-1/(w**2 - 1))*sqrt(1 - w**2) - m**2)/(m**2*(w**2 - 1))],\n[0,                                                                                                                                                              k*sqrt(k**2 + m**2)*(-w**2*sqrt(1 - w**2) + sqrt(-1/(w**2 - 1))*(1 - w**2) - (1 - w**2)**(3/2))/(m**2*(1 - w**2)**(3/2)),                                                                                                                                                   w*sqrt(k**2 + m**2)*(sqrt(-1/(w**2 - 1))*(w**2 - 1) + sqrt(1 - w**2))/(m*(1 - w**2)**(3/2)), (-k**2*(1 - w**2)**(3/2) - (k**2 + m**2)*(w**2*sqrt(1 - w**2) + sqrt(-1/(w**2 - 1))*(w**2 - 1)))/(m**2*(1 - w**2)**(3/2))]])",
      "text/latex": "$\\displaystyle \\left[\\begin{matrix}1 & 0 & 0 & 0\\\\0 & \\frac{k^{4} \\sqrt{- \\frac{1}{w^{2} - 1}} \\sqrt{1 - w^{2}} - k^{4} - k^{2} m^{2} w^{2} + k^{2} m^{2} \\sqrt{- \\frac{1}{w^{2} - 1}} \\sqrt{1 - w^{2}} + m^{3} w^{2} \\sqrt{1 - w^{2}} \\sqrt{k^{2} + m^{2}}}{m^{2} \\sqrt{1 - w^{2}} \\left(k^{2} + m^{2} w^{2}\\right)} & \\frac{k w \\left(k^{2} + m^{2} w^{2} + \\sqrt{1 - w^{2}} \\sqrt{k^{2} + m^{2}} \\left(m - \\sqrt{- \\frac{1}{w^{2} - 1}} \\sqrt{k^{2} + m^{2}}\\right)\\right)}{m \\sqrt{1 - w^{2}} \\left(k^{2} + m^{2} w^{2}\\right)} & \\frac{k \\sqrt{k^{2} + m^{2}} \\left(\\sqrt{- \\frac{1}{w^{2} - 1}} \\sqrt{1 - w^{2}} - 1\\right)}{m^{2} \\sqrt{1 - w^{2}}}\\\\0 & \\frac{k w \\left(k^{2} \\sqrt{- \\frac{1}{w^{2} - 1}} \\sqrt{1 - w^{2}} \\sqrt{k^{2} + m^{2}} - k^{2} \\sqrt{k^{2} + m^{2}} + m^{3} w^{2} \\sqrt{1 - w^{2}} - m^{3} \\sqrt{1 - w^{2}} - m^{2} w^{2} \\sqrt{k^{2} + m^{2}} + m^{2} \\sqrt{- \\frac{1}{w^{2} - 1}} \\sqrt{1 - w^{2}} \\sqrt{k^{2} + m^{2}}\\right)}{m^{2} \\left(k^{2} w^{2} - k^{2} + m^{2} w^{4} - m^{2} w^{2}\\right)} & \\frac{- w^{2} \\sqrt{1 - w^{2}} \\sqrt{k^{2} + m^{2}} \\left(k^{2} + m^{2} w^{2}\\right) - \\left(w^{2} - 1\\right) \\left(- k^{2} m w^{2} + k^{2} m + k^{2} w^{2} \\sqrt{- \\frac{1}{w^{2} - 1}} \\sqrt{k^{2} + m^{2}} + m^{2} w^{2} \\sqrt{- \\frac{1}{w^{2} - 1}} \\sqrt{k^{2} + m^{2}}\\right)}{m \\left(1 - w^{2}\\right)^{\\frac{3}{2}} \\left(k^{2} + m^{2} w^{2}\\right)} & \\frac{w \\left(k^{2} \\sqrt{- \\frac{1}{w^{2} - 1}} \\sqrt{1 - w^{2}} - k^{2} + m^{2} \\sqrt{- \\frac{1}{w^{2} - 1}} \\sqrt{1 - w^{2}} - m^{2}\\right)}{m^{2} \\left(w^{2} - 1\\right)}\\\\0 & \\frac{k \\sqrt{k^{2} + m^{2}} \\left(- w^{2} \\sqrt{1 - w^{2}} + \\sqrt{- \\frac{1}{w^{2} - 1}} \\cdot \\left(1 - w^{2}\\right) - \\left(1 - w^{2}\\right)^{\\frac{3}{2}}\\right)}{m^{2} \\left(1 - w^{2}\\right)^{\\frac{3}{2}}} & \\frac{w \\sqrt{k^{2} + m^{2}} \\left(\\sqrt{- \\frac{1}{w^{2} - 1}} \\left(w^{2} - 1\\right) + \\sqrt{1 - w^{2}}\\right)}{m \\left(1 - w^{2}\\right)^{\\frac{3}{2}}} & \\frac{- k^{2} \\left(1 - w^{2}\\right)^{\\frac{3}{2}} - \\left(k^{2} + m^{2}\\right) \\left(w^{2} \\sqrt{1 - w^{2}} + \\sqrt{- \\frac{1}{w^{2} - 1}} \\left(w^{2} - 1\\right)\\right)}{m^{2} \\left(1 - w^{2}\\right)^{\\frac{3}{2}}}\\end{matrix}\\right]$"
     },
     "execution_count": 8,
     "metadata": {},
     "output_type": "execute_result"
    }
   ],
   "source": [
    "w_l_p = simplify(m2*matrix_lambda*m1)\n",
    "w_l_p"
   ],
   "metadata": {
    "collapsed": false,
    "ExecuteTime": {
     "end_time": "2023-11-26T12:25:06.774762100Z",
     "start_time": "2023-11-26T12:25:04.899374900Z"
    }
   },
   "id": "8511a3219cecb1a2"
  },
  {
   "cell_type": "code",
   "execution_count": 9,
   "outputs": [
    {
     "data": {
      "text/plain": "Matrix([\n[1,                                                                                           0,                                                                                    0, 0],\n[0, (sqrt(a)*m*(1 - a)*sqrt(k**2 + m**2) + k**2*(a - 1) + k**2)/(sqrt(a)*(k**2 - m**2*(a - 1))),                           k*w*(sqrt(a)*m - sqrt(k**2 + m**2))/(a*m**2 - k**2 - m**2), 0],\n[0,                                 k*w*(-sqrt(a)*m + sqrt(k**2 + m**2))/(a*m**2 - k**2 - m**2), (-sqrt(a)*k**2 + a*m*sqrt(k**2 + m**2) - m*sqrt(k**2 + m**2))/(a*m**2 - k**2 - m**2), 0],\n[0,                                                                                           0,                                                                                    0, 1]])",
      "text/latex": "$\\displaystyle \\left[\\begin{matrix}1 & 0 & 0 & 0\\\\0 & \\frac{\\sqrt{a} m \\left(1 - a\\right) \\sqrt{k^{2} + m^{2}} + k^{2} \\left(a - 1\\right) + k^{2}}{\\sqrt{a} \\left(k^{2} - m^{2} \\left(a - 1\\right)\\right)} & \\frac{k w \\left(\\sqrt{a} m - \\sqrt{k^{2} + m^{2}}\\right)}{a m^{2} - k^{2} - m^{2}} & 0\\\\0 & \\frac{k w \\left(- \\sqrt{a} m + \\sqrt{k^{2} + m^{2}}\\right)}{a m^{2} - k^{2} - m^{2}} & \\frac{- \\sqrt{a} k^{2} + a m \\sqrt{k^{2} + m^{2}} - m \\sqrt{k^{2} + m^{2}}}{a m^{2} - k^{2} - m^{2}} & 0\\\\0 & 0 & 0 & 1\\end{matrix}\\right]$"
     },
     "execution_count": 9,
     "metadata": {},
     "output_type": "execute_result"
    }
   ],
   "source": [
    "temp2 = simplify(w_l_p.subs([(w**2, 1-a)]))\n",
    "temp2"
   ],
   "metadata": {
    "collapsed": false,
    "ExecuteTime": {
     "end_time": "2023-11-26T12:25:07.291321400Z",
     "start_time": "2023-11-26T12:25:06.773763900Z"
    }
   },
   "id": "cedd5b9cd6ba36ca"
  },
  {
   "cell_type": "code",
   "execution_count": 10,
   "outputs": [
    {
     "data": {
      "text/plain": "Matrix([\n[1,                                                                                                 0,                                                                   0, 0],\n[0, (-k**2*w**2 + k**2 + m*w**2*sqrt(1 - w**2)*sqrt(k**2 + m**2))/(sqrt(1 - w**2)*(k**2 + m**2*w**2)),      k*w*(-m*sqrt(1 - w**2) + sqrt(k**2 + m**2))/(k**2 + m**2*w**2), 0],\n[0,                                     k*w*(m*sqrt(1 - w**2) - sqrt(k**2 + m**2))/(k**2 + m**2*w**2), (k**2*sqrt(1 - w**2) + m*w**2*sqrt(k**2 + m**2))/(k**2 + m**2*w**2), 0],\n[0,                                                                                                 0,                                                                   0, 1]])",
      "text/latex": "$\\displaystyle \\left[\\begin{matrix}1 & 0 & 0 & 0\\\\0 & \\frac{- k^{2} w^{2} + k^{2} + m w^{2} \\sqrt{1 - w^{2}} \\sqrt{k^{2} + m^{2}}}{\\sqrt{1 - w^{2}} \\left(k^{2} + m^{2} w^{2}\\right)} & \\frac{k w \\left(- m \\sqrt{1 - w^{2}} + \\sqrt{k^{2} + m^{2}}\\right)}{k^{2} + m^{2} w^{2}} & 0\\\\0 & \\frac{k w \\left(m \\sqrt{1 - w^{2}} - \\sqrt{k^{2} + m^{2}}\\right)}{k^{2} + m^{2} w^{2}} & \\frac{k^{2} \\sqrt{1 - w^{2}} + m w^{2} \\sqrt{k^{2} + m^{2}}}{k^{2} + m^{2} w^{2}} & 0\\\\0 & 0 & 0 & 1\\end{matrix}\\right]$"
     },
     "execution_count": 10,
     "metadata": {},
     "output_type": "execute_result"
    }
   ],
   "source": [
    "temp3 = simplify(temp2.subs([(a, 1- w**2)]))\n",
    "temp3"
   ],
   "metadata": {
    "collapsed": false,
    "ExecuteTime": {
     "end_time": "2023-11-26T12:25:07.567411300Z",
     "start_time": "2023-11-26T12:25:07.289321600Z"
    }
   },
   "id": "51c71edb44dfb927"
  },
  {
   "cell_type": "code",
   "execution_count": 10,
   "outputs": [],
   "source": [],
   "metadata": {
    "collapsed": false,
    "ExecuteTime": {
     "end_time": "2023-11-26T12:25:07.580235700Z",
     "start_time": "2023-11-26T12:25:07.569413400Z"
    }
   },
   "id": "45b3ce543a13f5d6"
  }
 ],
 "metadata": {
  "kernelspec": {
   "display_name": "Python 3",
   "language": "python",
   "name": "python3"
  },
  "language_info": {
   "codemirror_mode": {
    "name": "ipython",
    "version": 2
   },
   "file_extension": ".py",
   "mimetype": "text/x-python",
   "name": "python",
   "nbconvert_exporter": "python",
   "pygments_lexer": "ipython2",
   "version": "2.7.6"
  }
 },
 "nbformat": 4,
 "nbformat_minor": 5
}
